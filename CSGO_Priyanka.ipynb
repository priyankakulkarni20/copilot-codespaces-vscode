{
  "cells": [
    {
      "cell_type": "code",
      "execution_count": null,
      "metadata": {},
      "outputs": [],
      "source": [
        "import numpy as np\n",
        "import pandas as pd\n",
        "import seaborn as sns\n",
        "import matplotlib.pyplot as plt"
      ]
    },
    {
      "cell_type": "code",
      "execution_count": 2,
      "metadata": {
        "id": "Y-jt9gi7ueg4"
      },
      "outputs": [],
      "source": [
        "import warnings\n",
        "warnings.filterwarnings(\"ignore\")"
      ]
    },
    {
      "cell_type": "code",
      "execution_count": 3,
      "metadata": {
        "id": "YHeB9RwZ4Qis"
      },
      "outputs": [],
      "source": [
        "from sklearn.metrics import *\n",
        "from sklearn.tree import DecisionTreeClassifier\n",
        "from sklearn.ensemble import RandomForestClassifier\n",
        "from sklearn.linear_model import LogisticRegression\n",
        "from sklearn.model_selection import train_test_split\n",
        "from sklearn.preprocessing import LabelEncoder, StandardScaler\n",
        "from sklearn.discriminant_analysis import LinearDiscriminantAnalysis as LDA"
      ]
    },
    {
      "cell_type": "code",
      "execution_count": 4,
      "metadata": {
        "id": "VnBERYHEumRm"
      },
      "outputs": [],
      "source": [
        "df = pd.read_csv(\"/content/drive/MyDrive/Datasets/DataCGGO.csv\")"
      ]
    },
    {
      "cell_type": "code",
      "execution_count": 5,
      "metadata": {
        "colab": {
          "base_uri": "https://localhost:8080/",
          "height": 255
        },
        "id": "yoh9nWRSu0VD",
        "outputId": "b356452e-be89-4aee-bdd3-8c14a9ffe1cf"
      },
      "outputs": [
        {
          "data": {
            "application/vnd.google.colaboratory.intrinsic+json": {
              "type": "dataframe",
              "variable_name": "df"
            },
            "text/html": [
              "\n",
              "  <div id=\"df-c6cb7d37-5327-4df7-b2a3-039af56d8650\" class=\"colab-df-container\">\n",
              "    <div>\n",
              "<style scoped>\n",
              "    .dataframe tbody tr th:only-of-type {\n",
              "        vertical-align: middle;\n",
              "    }\n",
              "\n",
              "    .dataframe tbody tr th {\n",
              "        vertical-align: top;\n",
              "    }\n",
              "\n",
              "    .dataframe thead th {\n",
              "        text-align: right;\n",
              "    }\n",
              "</style>\n",
              "<table border=\"1\" class=\"dataframe\">\n",
              "  <thead>\n",
              "    <tr style=\"text-align: right;\">\n",
              "      <th></th>\n",
              "      <th>time_left</th>\n",
              "      <th>ct_score</th>\n",
              "      <th>t_score</th>\n",
              "      <th>map</th>\n",
              "      <th>bomb_planted</th>\n",
              "      <th>ct_health</th>\n",
              "      <th>t_health</th>\n",
              "      <th>ct_armor</th>\n",
              "      <th>t_armor</th>\n",
              "      <th>ct_money</th>\n",
              "      <th>...</th>\n",
              "      <th>t_grenade_flashbang</th>\n",
              "      <th>ct_grenade_smokegrenade</th>\n",
              "      <th>t_grenade_smokegrenade</th>\n",
              "      <th>ct_grenade_incendiarygrenade</th>\n",
              "      <th>t_grenade_incendiarygrenade</th>\n",
              "      <th>ct_grenade_molotovgrenade</th>\n",
              "      <th>t_grenade_molotovgrenade</th>\n",
              "      <th>ct_grenade_decoygrenade</th>\n",
              "      <th>t_grenade_decoygrenade</th>\n",
              "      <th>round_winner</th>\n",
              "    </tr>\n",
              "  </thead>\n",
              "  <tbody>\n",
              "    <tr>\n",
              "      <th>0</th>\n",
              "      <td>175.00</td>\n",
              "      <td>0</td>\n",
              "      <td>0</td>\n",
              "      <td>de_dust2</td>\n",
              "      <td>False</td>\n",
              "      <td>500</td>\n",
              "      <td>500</td>\n",
              "      <td>0</td>\n",
              "      <td>0</td>\n",
              "      <td>4000</td>\n",
              "      <td>...</td>\n",
              "      <td>0</td>\n",
              "      <td>0</td>\n",
              "      <td>0</td>\n",
              "      <td>0</td>\n",
              "      <td>0</td>\n",
              "      <td>0</td>\n",
              "      <td>0</td>\n",
              "      <td>0</td>\n",
              "      <td>0</td>\n",
              "      <td>CT</td>\n",
              "    </tr>\n",
              "    <tr>\n",
              "      <th>1</th>\n",
              "      <td>156.03</td>\n",
              "      <td>0</td>\n",
              "      <td>0</td>\n",
              "      <td>de_dust2</td>\n",
              "      <td>False</td>\n",
              "      <td>500</td>\n",
              "      <td>500</td>\n",
              "      <td>400</td>\n",
              "      <td>300</td>\n",
              "      <td>600</td>\n",
              "      <td>...</td>\n",
              "      <td>0</td>\n",
              "      <td>0</td>\n",
              "      <td>2</td>\n",
              "      <td>0</td>\n",
              "      <td>0</td>\n",
              "      <td>0</td>\n",
              "      <td>0</td>\n",
              "      <td>0</td>\n",
              "      <td>0</td>\n",
              "      <td>CT</td>\n",
              "    </tr>\n",
              "    <tr>\n",
              "      <th>2</th>\n",
              "      <td>96.03</td>\n",
              "      <td>0</td>\n",
              "      <td>0</td>\n",
              "      <td>de_dust2</td>\n",
              "      <td>False</td>\n",
              "      <td>391</td>\n",
              "      <td>400</td>\n",
              "      <td>294</td>\n",
              "      <td>200</td>\n",
              "      <td>750</td>\n",
              "      <td>...</td>\n",
              "      <td>0</td>\n",
              "      <td>0</td>\n",
              "      <td>2</td>\n",
              "      <td>0</td>\n",
              "      <td>0</td>\n",
              "      <td>0</td>\n",
              "      <td>0</td>\n",
              "      <td>0</td>\n",
              "      <td>0</td>\n",
              "      <td>CT</td>\n",
              "    </tr>\n",
              "    <tr>\n",
              "      <th>3</th>\n",
              "      <td>76.03</td>\n",
              "      <td>0</td>\n",
              "      <td>0</td>\n",
              "      <td>de_dust2</td>\n",
              "      <td>False</td>\n",
              "      <td>391</td>\n",
              "      <td>400</td>\n",
              "      <td>294</td>\n",
              "      <td>200</td>\n",
              "      <td>750</td>\n",
              "      <td>...</td>\n",
              "      <td>0</td>\n",
              "      <td>0</td>\n",
              "      <td>0</td>\n",
              "      <td>0</td>\n",
              "      <td>0</td>\n",
              "      <td>0</td>\n",
              "      <td>0</td>\n",
              "      <td>0</td>\n",
              "      <td>0</td>\n",
              "      <td>CT</td>\n",
              "    </tr>\n",
              "    <tr>\n",
              "      <th>4</th>\n",
              "      <td>174.97</td>\n",
              "      <td>1</td>\n",
              "      <td>0</td>\n",
              "      <td>de_dust2</td>\n",
              "      <td>False</td>\n",
              "      <td>500</td>\n",
              "      <td>500</td>\n",
              "      <td>192</td>\n",
              "      <td>0</td>\n",
              "      <td>18350</td>\n",
              "      <td>...</td>\n",
              "      <td>0</td>\n",
              "      <td>0</td>\n",
              "      <td>0</td>\n",
              "      <td>0</td>\n",
              "      <td>0</td>\n",
              "      <td>0</td>\n",
              "      <td>0</td>\n",
              "      <td>0</td>\n",
              "      <td>0</td>\n",
              "      <td>CT</td>\n",
              "    </tr>\n",
              "  </tbody>\n",
              "</table>\n",
              "<p>5 rows × 97 columns</p>\n",
              "</div>\n",
              "    <div class=\"colab-df-buttons\">\n",
              "\n",
              "  <div class=\"colab-df-container\">\n",
              "    <button class=\"colab-df-convert\" onclick=\"convertToInteractive('df-c6cb7d37-5327-4df7-b2a3-039af56d8650')\"\n",
              "            title=\"Convert this dataframe to an interactive table.\"\n",
              "            style=\"display:none;\">\n",
              "\n",
              "  <svg xmlns=\"http://www.w3.org/2000/svg\" height=\"24px\" viewBox=\"0 -960 960 960\">\n",
              "    <path d=\"M120-120v-720h720v720H120Zm60-500h600v-160H180v160Zm220 220h160v-160H400v160Zm0 220h160v-160H400v160ZM180-400h160v-160H180v160Zm440 0h160v-160H620v160ZM180-180h160v-160H180v160Zm440 0h160v-160H620v160Z\"/>\n",
              "  </svg>\n",
              "    </button>\n",
              "\n",
              "  <style>\n",
              "    .colab-df-container {\n",
              "      display:flex;\n",
              "      gap: 12px;\n",
              "    }\n",
              "\n",
              "    .colab-df-convert {\n",
              "      background-color: #E8F0FE;\n",
              "      border: none;\n",
              "      border-radius: 50%;\n",
              "      cursor: pointer;\n",
              "      display: none;\n",
              "      fill: #1967D2;\n",
              "      height: 32px;\n",
              "      padding: 0 0 0 0;\n",
              "      width: 32px;\n",
              "    }\n",
              "\n",
              "    .colab-df-convert:hover {\n",
              "      background-color: #E2EBFA;\n",
              "      box-shadow: 0px 1px 2px rgba(60, 64, 67, 0.3), 0px 1px 3px 1px rgba(60, 64, 67, 0.15);\n",
              "      fill: #174EA6;\n",
              "    }\n",
              "\n",
              "    .colab-df-buttons div {\n",
              "      margin-bottom: 4px;\n",
              "    }\n",
              "\n",
              "    [theme=dark] .colab-df-convert {\n",
              "      background-color: #3B4455;\n",
              "      fill: #D2E3FC;\n",
              "    }\n",
              "\n",
              "    [theme=dark] .colab-df-convert:hover {\n",
              "      background-color: #434B5C;\n",
              "      box-shadow: 0px 1px 3px 1px rgba(0, 0, 0, 0.15);\n",
              "      filter: drop-shadow(0px 1px 2px rgba(0, 0, 0, 0.3));\n",
              "      fill: #FFFFFF;\n",
              "    }\n",
              "  </style>\n",
              "\n",
              "    <script>\n",
              "      const buttonEl =\n",
              "        document.querySelector('#df-c6cb7d37-5327-4df7-b2a3-039af56d8650 button.colab-df-convert');\n",
              "      buttonEl.style.display =\n",
              "        google.colab.kernel.accessAllowed ? 'block' : 'none';\n",
              "\n",
              "      async function convertToInteractive(key) {\n",
              "        const element = document.querySelector('#df-c6cb7d37-5327-4df7-b2a3-039af56d8650');\n",
              "        const dataTable =\n",
              "          await google.colab.kernel.invokeFunction('convertToInteractive',\n",
              "                                                    [key], {});\n",
              "        if (!dataTable) return;\n",
              "\n",
              "        const docLinkHtml = 'Like what you see? Visit the ' +\n",
              "          '<a target=\"_blank\" href=https://colab.research.google.com/notebooks/data_table.ipynb>data table notebook</a>'\n",
              "          + ' to learn more about interactive tables.';\n",
              "        element.innerHTML = '';\n",
              "        dataTable['output_type'] = 'display_data';\n",
              "        await google.colab.output.renderOutput(dataTable, element);\n",
              "        const docLink = document.createElement('div');\n",
              "        docLink.innerHTML = docLinkHtml;\n",
              "        element.appendChild(docLink);\n",
              "      }\n",
              "    </script>\n",
              "  </div>\n",
              "\n",
              "\n",
              "<div id=\"df-f08c1e97-5783-4c3a-9a79-58ac68b26af4\">\n",
              "  <button class=\"colab-df-quickchart\" onclick=\"quickchart('df-f08c1e97-5783-4c3a-9a79-58ac68b26af4')\"\n",
              "            title=\"Suggest charts\"\n",
              "            style=\"display:none;\">\n",
              "\n",
              "<svg xmlns=\"http://www.w3.org/2000/svg\" height=\"24px\"viewBox=\"0 0 24 24\"\n",
              "     width=\"24px\">\n",
              "    <g>\n",
              "        <path d=\"M19 3H5c-1.1 0-2 .9-2 2v14c0 1.1.9 2 2 2h14c1.1 0 2-.9 2-2V5c0-1.1-.9-2-2-2zM9 17H7v-7h2v7zm4 0h-2V7h2v10zm4 0h-2v-4h2v4z\"/>\n",
              "    </g>\n",
              "</svg>\n",
              "  </button>\n",
              "\n",
              "<style>\n",
              "  .colab-df-quickchart {\n",
              "      --bg-color: #E8F0FE;\n",
              "      --fill-color: #1967D2;\n",
              "      --hover-bg-color: #E2EBFA;\n",
              "      --hover-fill-color: #174EA6;\n",
              "      --disabled-fill-color: #AAA;\n",
              "      --disabled-bg-color: #DDD;\n",
              "  }\n",
              "\n",
              "  [theme=dark] .colab-df-quickchart {\n",
              "      --bg-color: #3B4455;\n",
              "      --fill-color: #D2E3FC;\n",
              "      --hover-bg-color: #434B5C;\n",
              "      --hover-fill-color: #FFFFFF;\n",
              "      --disabled-bg-color: #3B4455;\n",
              "      --disabled-fill-color: #666;\n",
              "  }\n",
              "\n",
              "  .colab-df-quickchart {\n",
              "    background-color: var(--bg-color);\n",
              "    border: none;\n",
              "    border-radius: 50%;\n",
              "    cursor: pointer;\n",
              "    display: none;\n",
              "    fill: var(--fill-color);\n",
              "    height: 32px;\n",
              "    padding: 0;\n",
              "    width: 32px;\n",
              "  }\n",
              "\n",
              "  .colab-df-quickchart:hover {\n",
              "    background-color: var(--hover-bg-color);\n",
              "    box-shadow: 0 1px 2px rgba(60, 64, 67, 0.3), 0 1px 3px 1px rgba(60, 64, 67, 0.15);\n",
              "    fill: var(--button-hover-fill-color);\n",
              "  }\n",
              "\n",
              "  .colab-df-quickchart-complete:disabled,\n",
              "  .colab-df-quickchart-complete:disabled:hover {\n",
              "    background-color: var(--disabled-bg-color);\n",
              "    fill: var(--disabled-fill-color);\n",
              "    box-shadow: none;\n",
              "  }\n",
              "\n",
              "  .colab-df-spinner {\n",
              "    border: 2px solid var(--fill-color);\n",
              "    border-color: transparent;\n",
              "    border-bottom-color: var(--fill-color);\n",
              "    animation:\n",
              "      spin 1s steps(1) infinite;\n",
              "  }\n",
              "\n",
              "  @keyframes spin {\n",
              "    0% {\n",
              "      border-color: transparent;\n",
              "      border-bottom-color: var(--fill-color);\n",
              "      border-left-color: var(--fill-color);\n",
              "    }\n",
              "    20% {\n",
              "      border-color: transparent;\n",
              "      border-left-color: var(--fill-color);\n",
              "      border-top-color: var(--fill-color);\n",
              "    }\n",
              "    30% {\n",
              "      border-color: transparent;\n",
              "      border-left-color: var(--fill-color);\n",
              "      border-top-color: var(--fill-color);\n",
              "      border-right-color: var(--fill-color);\n",
              "    }\n",
              "    40% {\n",
              "      border-color: transparent;\n",
              "      border-right-color: var(--fill-color);\n",
              "      border-top-color: var(--fill-color);\n",
              "    }\n",
              "    60% {\n",
              "      border-color: transparent;\n",
              "      border-right-color: var(--fill-color);\n",
              "    }\n",
              "    80% {\n",
              "      border-color: transparent;\n",
              "      border-right-color: var(--fill-color);\n",
              "      border-bottom-color: var(--fill-color);\n",
              "    }\n",
              "    90% {\n",
              "      border-color: transparent;\n",
              "      border-bottom-color: var(--fill-color);\n",
              "    }\n",
              "  }\n",
              "</style>\n",
              "\n",
              "  <script>\n",
              "    async function quickchart(key) {\n",
              "      const quickchartButtonEl =\n",
              "        document.querySelector('#' + key + ' button');\n",
              "      quickchartButtonEl.disabled = true;  // To prevent multiple clicks.\n",
              "      quickchartButtonEl.classList.add('colab-df-spinner');\n",
              "      try {\n",
              "        const charts = await google.colab.kernel.invokeFunction(\n",
              "            'suggestCharts', [key], {});\n",
              "      } catch (error) {\n",
              "        console.error('Error during call to suggestCharts:', error);\n",
              "      }\n",
              "      quickchartButtonEl.classList.remove('colab-df-spinner');\n",
              "      quickchartButtonEl.classList.add('colab-df-quickchart-complete');\n",
              "    }\n",
              "    (() => {\n",
              "      let quickchartButtonEl =\n",
              "        document.querySelector('#df-f08c1e97-5783-4c3a-9a79-58ac68b26af4 button');\n",
              "      quickchartButtonEl.style.display =\n",
              "        google.colab.kernel.accessAllowed ? 'block' : 'none';\n",
              "    })();\n",
              "  </script>\n",
              "</div>\n",
              "\n",
              "    </div>\n",
              "  </div>\n"
            ],
            "text/plain": [
              "   time_left  ct_score  t_score       map  bomb_planted  ct_health  t_health  \\\n",
              "0     175.00         0        0  de_dust2         False        500       500   \n",
              "1     156.03         0        0  de_dust2         False        500       500   \n",
              "2      96.03         0        0  de_dust2         False        391       400   \n",
              "3      76.03         0        0  de_dust2         False        391       400   \n",
              "4     174.97         1        0  de_dust2         False        500       500   \n",
              "\n",
              "   ct_armor  t_armor  ct_money  ...  t_grenade_flashbang  \\\n",
              "0         0        0      4000  ...                    0   \n",
              "1       400      300       600  ...                    0   \n",
              "2       294      200       750  ...                    0   \n",
              "3       294      200       750  ...                    0   \n",
              "4       192        0     18350  ...                    0   \n",
              "\n",
              "   ct_grenade_smokegrenade  t_grenade_smokegrenade  \\\n",
              "0                        0                       0   \n",
              "1                        0                       2   \n",
              "2                        0                       2   \n",
              "3                        0                       0   \n",
              "4                        0                       0   \n",
              "\n",
              "   ct_grenade_incendiarygrenade  t_grenade_incendiarygrenade  \\\n",
              "0                             0                            0   \n",
              "1                             0                            0   \n",
              "2                             0                            0   \n",
              "3                             0                            0   \n",
              "4                             0                            0   \n",
              "\n",
              "   ct_grenade_molotovgrenade  t_grenade_molotovgrenade  \\\n",
              "0                          0                         0   \n",
              "1                          0                         0   \n",
              "2                          0                         0   \n",
              "3                          0                         0   \n",
              "4                          0                         0   \n",
              "\n",
              "   ct_grenade_decoygrenade  t_grenade_decoygrenade  round_winner  \n",
              "0                        0                       0            CT  \n",
              "1                        0                       0            CT  \n",
              "2                        0                       0            CT  \n",
              "3                        0                       0            CT  \n",
              "4                        0                       0            CT  \n",
              "\n",
              "[5 rows x 97 columns]"
            ]
          },
          "execution_count": 5,
          "metadata": {},
          "output_type": "execute_result"
        }
      ],
      "source": [
        "df.head()"
      ]
    },
    {
      "cell_type": "code",
      "execution_count": 6,
      "metadata": {
        "colab": {
          "base_uri": "https://localhost:8080/"
        },
        "id": "LYSAXIOSx28l",
        "outputId": "68ee44a6-1dbb-427c-d6a2-de0a1e622c30"
      },
      "outputs": [
        {
          "data": {
            "text/plain": [
              "round_winner\n",
              "T     62406\n",
              "CT    60004\n",
              "Name: count, dtype: int64"
            ]
          },
          "execution_count": 6,
          "metadata": {},
          "output_type": "execute_result"
        }
      ],
      "source": [
        "df[\"round_winner\"].value_counts()"
      ]
    },
    {
      "cell_type": "code",
      "execution_count": 8,
      "metadata": {
        "colab": {
          "base_uri": "https://localhost:8080/"
        },
        "id": "1hnu-1LtzQBW",
        "outputId": "5edcd5d5-ea07-4c53-8a86-869893292136"
      },
      "outputs": [
        {
          "name": "stdout",
          "output_type": "stream",
          "text": [
            "Rows: 122410 and Columns: 97\n"
          ]
        }
      ],
      "source": [
        "a = df.shape\n",
        "print(f\"Rows: {a[0]} and Columns: {a[1]}\")"
      ]
    },
    {
      "cell_type": "code",
      "execution_count": 9,
      "metadata": {
        "colab": {
          "base_uri": "https://localhost:8080/"
        },
        "id": "DyvuUWwAzJby",
        "outputId": "0ad005f1-1df8-4c0e-ab1c-00205bd96645"
      },
      "outputs": [
        {
          "name": "stdout",
          "output_type": "stream",
          "text": [
            "<class 'pandas.core.frame.DataFrame'>\n",
            "RangeIndex: 122410 entries, 0 to 122409\n",
            "Data columns (total 97 columns):\n",
            " #   Column                        Non-Null Count   Dtype  \n",
            "---  ------                        --------------   -----  \n",
            " 0   time_left                     122410 non-null  float64\n",
            " 1   ct_score                      122410 non-null  int64  \n",
            " 2   t_score                       122410 non-null  int64  \n",
            " 3   map                           122410 non-null  object \n",
            " 4   bomb_planted                  122410 non-null  bool   \n",
            " 5   ct_health                     122410 non-null  int64  \n",
            " 6   t_health                      122410 non-null  int64  \n",
            " 7   ct_armor                      122410 non-null  int64  \n",
            " 8   t_armor                       122410 non-null  int64  \n",
            " 9   ct_money                      122410 non-null  int64  \n",
            " 10  t_money                       122410 non-null  int64  \n",
            " 11  ct_helmets                    122410 non-null  int64  \n",
            " 12  t_helmets                     122410 non-null  int64  \n",
            " 13  ct_defuse_kits                122410 non-null  int64  \n",
            " 14  ct_players_alive              122410 non-null  int64  \n",
            " 15  t_players_alive               122410 non-null  int64  \n",
            " 16  ct_weapon_ak47                122410 non-null  int64  \n",
            " 17  t_weapon_ak47                 122410 non-null  int64  \n",
            " 18  ct_weapon_aug                 122410 non-null  int64  \n",
            " 19  t_weapon_aug                  122410 non-null  int64  \n",
            " 20  ct_weapon_awp                 122410 non-null  int64  \n",
            " 21  t_weapon_awp                  122410 non-null  int64  \n",
            " 22  ct_weapon_bizon               122410 non-null  int64  \n",
            " 23  t_weapon_bizon                122410 non-null  int64  \n",
            " 24  ct_weapon_cz75auto            122410 non-null  int64  \n",
            " 25  t_weapon_cz75auto             122410 non-null  int64  \n",
            " 26  ct_weapon_elite               122410 non-null  int64  \n",
            " 27  t_weapon_elite                122410 non-null  int64  \n",
            " 28  ct_weapon_famas               122410 non-null  int64  \n",
            " 29  t_weapon_famas                122410 non-null  int64  \n",
            " 30  ct_weapon_g3sg1               122410 non-null  int64  \n",
            " 31  t_weapon_g3sg1                122410 non-null  int64  \n",
            " 32  ct_weapon_galilar             122410 non-null  int64  \n",
            " 33  t_weapon_galilar              122410 non-null  int64  \n",
            " 34  ct_weapon_glock               122410 non-null  int64  \n",
            " 35  t_weapon_glock                122410 non-null  int64  \n",
            " 36  ct_weapon_m249                122410 non-null  int64  \n",
            " 37  t_weapon_m249                 122410 non-null  int64  \n",
            " 38  ct_weapon_m4a1s               122410 non-null  int64  \n",
            " 39  t_weapon_m4a1s                122410 non-null  int64  \n",
            " 40  ct_weapon_m4a4                122410 non-null  int64  \n",
            " 41  t_weapon_m4a4                 122410 non-null  int64  \n",
            " 42  ct_weapon_mac10               122410 non-null  int64  \n",
            " 43  t_weapon_mac10                122410 non-null  int64  \n",
            " 44  ct_weapon_mag7                122410 non-null  int64  \n",
            " 45  t_weapon_mag7                 122410 non-null  int64  \n",
            " 46  ct_weapon_mp5sd               122410 non-null  int64  \n",
            " 47  t_weapon_mp5sd                122410 non-null  int64  \n",
            " 48  ct_weapon_mp7                 122410 non-null  int64  \n",
            " 49  t_weapon_mp7                  122410 non-null  int64  \n",
            " 50  ct_weapon_mp9                 122410 non-null  int64  \n",
            " 51  t_weapon_mp9                  122410 non-null  int64  \n",
            " 52  ct_weapon_negev               122410 non-null  int64  \n",
            " 53  t_weapon_negev                122410 non-null  int64  \n",
            " 54  ct_weapon_nova                122410 non-null  int64  \n",
            " 55  t_weapon_nova                 122410 non-null  int64  \n",
            " 56  ct_weapon_p90                 122410 non-null  int64  \n",
            " 57  t_weapon_p90                  122410 non-null  int64  \n",
            " 58  ct_weapon_r8revolver          122410 non-null  int64  \n",
            " 59  t_weapon_r8revolver           122410 non-null  int64  \n",
            " 60  ct_weapon_sawedoff            122410 non-null  int64  \n",
            " 61  t_weapon_sawedoff             122410 non-null  int64  \n",
            " 62  ct_weapon_scar20              122410 non-null  int64  \n",
            " 63  t_weapon_scar20               122410 non-null  int64  \n",
            " 64  ct_weapon_sg553               122410 non-null  int64  \n",
            " 65  t_weapon_sg553                122410 non-null  int64  \n",
            " 66  ct_weapon_ssg08               122410 non-null  int64  \n",
            " 67  t_weapon_ssg08                122410 non-null  int64  \n",
            " 68  ct_weapon_ump45               122410 non-null  int64  \n",
            " 69  t_weapon_ump45                122410 non-null  int64  \n",
            " 70  ct_weapon_xm1014              122410 non-null  int64  \n",
            " 71  t_weapon_xm1014               122410 non-null  int64  \n",
            " 72  ct_weapon_deagle              122410 non-null  int64  \n",
            " 73  t_weapon_deagle               122410 non-null  int64  \n",
            " 74  ct_weapon_fiveseven           122410 non-null  int64  \n",
            " 75  t_weapon_fiveseven            122410 non-null  int64  \n",
            " 76  ct_weapon_usps                122410 non-null  int64  \n",
            " 77  t_weapon_usps                 122410 non-null  int64  \n",
            " 78  ct_weapon_p250                122410 non-null  int64  \n",
            " 79  t_weapon_p250                 122410 non-null  int64  \n",
            " 80  ct_weapon_p2000               122410 non-null  int64  \n",
            " 81  t_weapon_p2000                122410 non-null  int64  \n",
            " 82  ct_weapon_tec9                122410 non-null  int64  \n",
            " 83  t_weapon_tec9                 122410 non-null  int64  \n",
            " 84  ct_grenade_hegrenade          122410 non-null  int64  \n",
            " 85  t_grenade_hegrenade           122410 non-null  int64  \n",
            " 86  ct_grenade_flashbang          122410 non-null  int64  \n",
            " 87  t_grenade_flashbang           122410 non-null  int64  \n",
            " 88  ct_grenade_smokegrenade       122410 non-null  int64  \n",
            " 89  t_grenade_smokegrenade        122410 non-null  int64  \n",
            " 90  ct_grenade_incendiarygrenade  122410 non-null  int64  \n",
            " 91  t_grenade_incendiarygrenade   122410 non-null  int64  \n",
            " 92  ct_grenade_molotovgrenade     122410 non-null  int64  \n",
            " 93  t_grenade_molotovgrenade      122410 non-null  int64  \n",
            " 94  ct_grenade_decoygrenade       122410 non-null  int64  \n",
            " 95  t_grenade_decoygrenade        122410 non-null  int64  \n",
            " 96  round_winner                  122410 non-null  object \n",
            "dtypes: bool(1), float64(1), int64(93), object(2)\n",
            "memory usage: 89.8+ MB\n"
          ]
        }
      ],
      "source": [
        "df.info()"
      ]
    },
    {
      "cell_type": "code",
      "execution_count": 10,
      "metadata": {
        "colab": {
          "base_uri": "https://localhost:8080/"
        },
        "id": "f3Vxqmd80ZQi",
        "outputId": "5f9f4c3f-3194-4392-a84b-b26c21f42bc6"
      },
      "outputs": [
        {
          "data": {
            "text/plain": [
              "0"
            ]
          },
          "execution_count": 10,
          "metadata": {},
          "output_type": "execute_result"
        }
      ],
      "source": [
        "df.isnull().sum().sum()"
      ]
    },
    {
      "cell_type": "code",
      "execution_count": 11,
      "metadata": {
        "colab": {
          "base_uri": "https://localhost:8080/"
        },
        "id": "3jPuUq6_1G9v",
        "outputId": "1015e2a9-e1ab-49f2-8dcc-f6b92c42345f"
      },
      "outputs": [
        {
          "data": {
            "text/plain": [
              "4962"
            ]
          },
          "execution_count": 11,
          "metadata": {},
          "output_type": "execute_result"
        }
      ],
      "source": [
        "df.duplicated().sum()"
      ]
    },
    {
      "cell_type": "code",
      "execution_count": 12,
      "metadata": {
        "id": "ELKK-z-O1RTg"
      },
      "outputs": [],
      "source": [
        "df = df.drop_duplicates()"
      ]
    },
    {
      "cell_type": "code",
      "execution_count": 13,
      "metadata": {
        "colab": {
          "base_uri": "https://localhost:8080/"
        },
        "id": "6OdP5B801WdG",
        "outputId": "d0968501-6a2c-4302-c5ad-829a3461094b"
      },
      "outputs": [
        {
          "data": {
            "text/plain": [
              "map\n",
              "de_inferno     19.567809\n",
              "de_dust2       18.094816\n",
              "de_nuke        15.392344\n",
              "de_mirage      15.149683\n",
              "de_overpass    11.472311\n",
              "de_train       10.999762\n",
              "de_vertigo      9.199816\n",
              "de_cache        0.123459\n",
              "Name: proportion, dtype: float64"
            ]
          },
          "execution_count": 13,
          "metadata": {},
          "output_type": "execute_result"
        }
      ],
      "source": [
        "df[\"map\"].value_counts(normalize = True) * 100"
      ]
    },
    {
      "cell_type": "code",
      "execution_count": 14,
      "metadata": {
        "colab": {
          "base_uri": "https://localhost:8080/"
        },
        "id": "vuAHz9Pn2laS",
        "outputId": "db489cef-87cf-461b-a4fe-2edfc8359e16"
      },
      "outputs": [
        {
          "data": {
            "text/plain": [
              "round_winner\n",
              "T     12511\n",
              "CT    10471\n",
              "Name: count, dtype: int64"
            ]
          },
          "execution_count": 14,
          "metadata": {},
          "output_type": "execute_result"
        }
      ],
      "source": [
        "df[df[\"map\"] == \"de_inferno\"][\"round_winner\"].value_counts()"
      ]
    },
    {
      "cell_type": "code",
      "execution_count": 15,
      "metadata": {
        "colab": {
          "base_uri": "https://localhost:8080/"
        },
        "id": "B_-gdKbT3U6A",
        "outputId": "ad527be8-50f4-41db-a8e3-0c27357f2a0b"
      },
      "outputs": [
        {
          "data": {
            "text/plain": [
              "round_winner\n",
              "T     11603\n",
              "CT     9649\n",
              "Name: count, dtype: int64"
            ]
          },
          "execution_count": 15,
          "metadata": {},
          "output_type": "execute_result"
        }
      ],
      "source": [
        "df[df[\"map\"] == \"de_dust2\"][\"round_winner\"].value_counts()"
      ]
    },
    {
      "cell_type": "code",
      "execution_count": 16,
      "metadata": {
        "id": "U6QD06dl3yvM"
      },
      "outputs": [],
      "source": [
        "\n",
        "encoder = LabelEncoder()\n",
        "\n",
        "cat_cols = []\n",
        "for x in df.columns:\n",
        "  if (df[x].dtype == \"object\") | (df[x].dtype == \"bool\"):\n",
        "    cat_cols.append(x)"
      ]
    },
    {
      "cell_type": "code",
      "execution_count": 17,
      "metadata": {
        "colab": {
          "base_uri": "https://localhost:8080/"
        },
        "id": "ioj5Kabi4rm2",
        "outputId": "da53d00f-31be-4406-a3a4-570e1f70e1db"
      },
      "outputs": [
        {
          "data": {
            "text/plain": [
              "['map', 'bomb_planted', 'round_winner']"
            ]
          },
          "execution_count": 17,
          "metadata": {},
          "output_type": "execute_result"
        }
      ],
      "source": [
        "cat_cols"
      ]
    },
    {
      "cell_type": "code",
      "execution_count": 18,
      "metadata": {
        "id": "ed4zHYwa4sqy"
      },
      "outputs": [],
      "source": [
        "for x in cat_cols:\n",
        "  df[x] = encoder.fit_transform(df[x])"
      ]
    },
    {
      "cell_type": "code",
      "execution_count": 19,
      "metadata": {
        "id": "sjx6_nQd4z8z"
      },
      "outputs": [],
      "source": [
        "X = df.drop(\"round_winner\", axis = 1)\n",
        "Y = df[\"round_winner\"]"
      ]
    },
    {
      "cell_type": "code",
      "execution_count": 20,
      "metadata": {
        "id": "mlvCB_DP5OUs"
      },
      "outputs": [],
      "source": [
        "x_train, x_test, y_train, y_test = train_test_split(X, Y, test_size = 0.25, random_state = 34)"
      ]
    },
    {
      "cell_type": "code",
      "execution_count": 21,
      "metadata": {
        "id": "6hB4UJy-5ZvH"
      },
      "outputs": [],
      "source": [
        "scaler = StandardScaler()\n",
        "x_train_scaled = scaler.fit_transform(x_train)\n",
        "x_test_scaled = scaler.transform(x_test)"
      ]
    },
    {
      "cell_type": "code",
      "execution_count": 23,
      "metadata": {
        "id": "geoIC6AyB8w_"
      },
      "outputs": [],
      "source": [
        "ldaObject = LDA()"
      ]
    },
    {
      "cell_type": "code",
      "execution_count": 24,
      "metadata": {
        "colab": {
          "base_uri": "https://localhost:8080/",
          "height": 74
        },
        "id": "OE-3E09OCNKk",
        "outputId": "298de21f-6fd4-493e-a605-dd3dd367ac91"
      },
      "outputs": [
        {
          "data": {
            "text/html": [
              "<style>#sk-container-id-1 {color: black;background-color: white;}#sk-container-id-1 pre{padding: 0;}#sk-container-id-1 div.sk-toggleable {background-color: white;}#sk-container-id-1 label.sk-toggleable__label {cursor: pointer;display: block;width: 100%;margin-bottom: 0;padding: 0.3em;box-sizing: border-box;text-align: center;}#sk-container-id-1 label.sk-toggleable__label-arrow:before {content: \"▸\";float: left;margin-right: 0.25em;color: #696969;}#sk-container-id-1 label.sk-toggleable__label-arrow:hover:before {color: black;}#sk-container-id-1 div.sk-estimator:hover label.sk-toggleable__label-arrow:before {color: black;}#sk-container-id-1 div.sk-toggleable__content {max-height: 0;max-width: 0;overflow: hidden;text-align: left;background-color: #f0f8ff;}#sk-container-id-1 div.sk-toggleable__content pre {margin: 0.2em;color: black;border-radius: 0.25em;background-color: #f0f8ff;}#sk-container-id-1 input.sk-toggleable__control:checked~div.sk-toggleable__content {max-height: 200px;max-width: 100%;overflow: auto;}#sk-container-id-1 input.sk-toggleable__control:checked~label.sk-toggleable__label-arrow:before {content: \"▾\";}#sk-container-id-1 div.sk-estimator input.sk-toggleable__control:checked~label.sk-toggleable__label {background-color: #d4ebff;}#sk-container-id-1 div.sk-label input.sk-toggleable__control:checked~label.sk-toggleable__label {background-color: #d4ebff;}#sk-container-id-1 input.sk-hidden--visually {border: 0;clip: rect(1px 1px 1px 1px);clip: rect(1px, 1px, 1px, 1px);height: 1px;margin: -1px;overflow: hidden;padding: 0;position: absolute;width: 1px;}#sk-container-id-1 div.sk-estimator {font-family: monospace;background-color: #f0f8ff;border: 1px dotted black;border-radius: 0.25em;box-sizing: border-box;margin-bottom: 0.5em;}#sk-container-id-1 div.sk-estimator:hover {background-color: #d4ebff;}#sk-container-id-1 div.sk-parallel-item::after {content: \"\";width: 100%;border-bottom: 1px solid gray;flex-grow: 1;}#sk-container-id-1 div.sk-label:hover label.sk-toggleable__label {background-color: #d4ebff;}#sk-container-id-1 div.sk-serial::before {content: \"\";position: absolute;border-left: 1px solid gray;box-sizing: border-box;top: 0;bottom: 0;left: 50%;z-index: 0;}#sk-container-id-1 div.sk-serial {display: flex;flex-direction: column;align-items: center;background-color: white;padding-right: 0.2em;padding-left: 0.2em;position: relative;}#sk-container-id-1 div.sk-item {position: relative;z-index: 1;}#sk-container-id-1 div.sk-parallel {display: flex;align-items: stretch;justify-content: center;background-color: white;position: relative;}#sk-container-id-1 div.sk-item::before, #sk-container-id-1 div.sk-parallel-item::before {content: \"\";position: absolute;border-left: 1px solid gray;box-sizing: border-box;top: 0;bottom: 0;left: 50%;z-index: -1;}#sk-container-id-1 div.sk-parallel-item {display: flex;flex-direction: column;z-index: 1;position: relative;background-color: white;}#sk-container-id-1 div.sk-parallel-item:first-child::after {align-self: flex-end;width: 50%;}#sk-container-id-1 div.sk-parallel-item:last-child::after {align-self: flex-start;width: 50%;}#sk-container-id-1 div.sk-parallel-item:only-child::after {width: 0;}#sk-container-id-1 div.sk-dashed-wrapped {border: 1px dashed gray;margin: 0 0.4em 0.5em 0.4em;box-sizing: border-box;padding-bottom: 0.4em;background-color: white;}#sk-container-id-1 div.sk-label label {font-family: monospace;font-weight: bold;display: inline-block;line-height: 1.2em;}#sk-container-id-1 div.sk-label-container {text-align: center;}#sk-container-id-1 div.sk-container {/* jupyter's `normalize.less` sets `[hidden] { display: none; }` but bootstrap.min.css set `[hidden] { display: none !important; }` so we also need the `!important` here to be able to override the default hidden behavior on the sphinx rendered scikit-learn.org. See: https://github.com/scikit-learn/scikit-learn/issues/21755 */display: inline-block !important;position: relative;}#sk-container-id-1 div.sk-text-repr-fallback {display: none;}</style><div id=\"sk-container-id-1\" class=\"sk-top-container\"><div class=\"sk-text-repr-fallback\"><pre>LinearDiscriminantAnalysis()</pre><b>In a Jupyter environment, please rerun this cell to show the HTML representation or trust the notebook. <br />On GitHub, the HTML representation is unable to render, please try loading this page with nbviewer.org.</b></div><div class=\"sk-container\" hidden><div class=\"sk-item\"><div class=\"sk-estimator sk-toggleable\"><input class=\"sk-toggleable__control sk-hidden--visually\" id=\"sk-estimator-id-1\" type=\"checkbox\" checked><label for=\"sk-estimator-id-1\" class=\"sk-toggleable__label sk-toggleable__label-arrow\">LinearDiscriminantAnalysis</label><div class=\"sk-toggleable__content\"><pre>LinearDiscriminantAnalysis()</pre></div></div></div></div></div>"
            ],
            "text/plain": [
              "LinearDiscriminantAnalysis()"
            ]
          },
          "execution_count": 24,
          "metadata": {},
          "output_type": "execute_result"
        }
      ],
      "source": [
        "ldaObject.fit(x_train, y_train)"
      ]
    },
    {
      "cell_type": "code",
      "execution_count": 25,
      "metadata": {
        "colab": {
          "base_uri": "https://localhost:8080/"
        },
        "id": "1w8Zb7s_CgIY",
        "outputId": "615a4c13-2d78-4cf9-e606-4425a7232624"
      },
      "outputs": [
        {
          "data": {
            "text/plain": [
              "array([[-0.8382772 ],\n",
              "       [-0.20456585],\n",
              "       [-1.19435147],\n",
              "       ...,\n",
              "       [ 2.25269187],\n",
              "       [ 0.5231942 ],\n",
              "       [ 1.49582956]])"
            ]
          },
          "execution_count": 25,
          "metadata": {},
          "output_type": "execute_result"
        }
      ],
      "source": [
        "ldaObject.transform(x_test)"
      ]
    },
    {
      "cell_type": "markdown",
      "metadata": {
        "id": "cTX1hM5wCqqo"
      },
      "source": [
        "**Calculate the importance associated with the data**"
      ]
    },
    {
      "cell_type": "code",
      "execution_count": 26,
      "metadata": {
        "colab": {
          "base_uri": "https://localhost:8080/",
          "height": 130
        },
        "id": "3Mrz7sMhCuTJ",
        "outputId": "f0f37178-40aa-43ac-f318-f8cd80baded9"
      },
      "outputs": [
        {
          "data": {
            "application/vnd.google.colaboratory.intrinsic+json": {
              "type": "dataframe"
            },
            "text/html": [
              "\n",
              "  <div id=\"df-fb6ff7bb-1a91-4875-b366-d77ac7041359\" class=\"colab-df-container\">\n",
              "    <div>\n",
              "<style scoped>\n",
              "    .dataframe tbody tr th:only-of-type {\n",
              "        vertical-align: middle;\n",
              "    }\n",
              "\n",
              "    .dataframe tbody tr th {\n",
              "        vertical-align: top;\n",
              "    }\n",
              "\n",
              "    .dataframe thead th {\n",
              "        text-align: right;\n",
              "    }\n",
              "</style>\n",
              "<table border=\"1\" class=\"dataframe\">\n",
              "  <thead>\n",
              "    <tr style=\"text-align: right;\">\n",
              "      <th></th>\n",
              "      <th>0</th>\n",
              "      <th>1</th>\n",
              "      <th>2</th>\n",
              "      <th>3</th>\n",
              "      <th>4</th>\n",
              "      <th>5</th>\n",
              "      <th>6</th>\n",
              "      <th>7</th>\n",
              "      <th>8</th>\n",
              "      <th>9</th>\n",
              "      <th>...</th>\n",
              "      <th>86</th>\n",
              "      <th>87</th>\n",
              "      <th>88</th>\n",
              "      <th>89</th>\n",
              "      <th>90</th>\n",
              "      <th>91</th>\n",
              "      <th>92</th>\n",
              "      <th>93</th>\n",
              "      <th>94</th>\n",
              "      <th>95</th>\n",
              "    </tr>\n",
              "  </thead>\n",
              "  <tbody>\n",
              "    <tr>\n",
              "      <th>0</th>\n",
              "      <td>0.002487</td>\n",
              "      <td>-0.004158</td>\n",
              "      <td>0.004099</td>\n",
              "      <td>-0.041713</td>\n",
              "      <td>0.760856</td>\n",
              "      <td>-0.003247</td>\n",
              "      <td>0.002292</td>\n",
              "      <td>-0.003525</td>\n",
              "      <td>0.003682</td>\n",
              "      <td>-0.000018</td>\n",
              "      <td>...</td>\n",
              "      <td>0.015021</td>\n",
              "      <td>-0.106491</td>\n",
              "      <td>0.047917</td>\n",
              "      <td>-0.123385</td>\n",
              "      <td>0.066642</td>\n",
              "      <td>-0.086623</td>\n",
              "      <td>0.043077</td>\n",
              "      <td>-0.065746</td>\n",
              "      <td>0.002976</td>\n",
              "      <td>0.10817</td>\n",
              "    </tr>\n",
              "  </tbody>\n",
              "</table>\n",
              "<p>1 rows × 96 columns</p>\n",
              "</div>\n",
              "    <div class=\"colab-df-buttons\">\n",
              "\n",
              "  <div class=\"colab-df-container\">\n",
              "    <button class=\"colab-df-convert\" onclick=\"convertToInteractive('df-fb6ff7bb-1a91-4875-b366-d77ac7041359')\"\n",
              "            title=\"Convert this dataframe to an interactive table.\"\n",
              "            style=\"display:none;\">\n",
              "\n",
              "  <svg xmlns=\"http://www.w3.org/2000/svg\" height=\"24px\" viewBox=\"0 -960 960 960\">\n",
              "    <path d=\"M120-120v-720h720v720H120Zm60-500h600v-160H180v160Zm220 220h160v-160H400v160Zm0 220h160v-160H400v160ZM180-400h160v-160H180v160Zm440 0h160v-160H620v160ZM180-180h160v-160H180v160Zm440 0h160v-160H620v160Z\"/>\n",
              "  </svg>\n",
              "    </button>\n",
              "\n",
              "  <style>\n",
              "    .colab-df-container {\n",
              "      display:flex;\n",
              "      gap: 12px;\n",
              "    }\n",
              "\n",
              "    .colab-df-convert {\n",
              "      background-color: #E8F0FE;\n",
              "      border: none;\n",
              "      border-radius: 50%;\n",
              "      cursor: pointer;\n",
              "      display: none;\n",
              "      fill: #1967D2;\n",
              "      height: 32px;\n",
              "      padding: 0 0 0 0;\n",
              "      width: 32px;\n",
              "    }\n",
              "\n",
              "    .colab-df-convert:hover {\n",
              "      background-color: #E2EBFA;\n",
              "      box-shadow: 0px 1px 2px rgba(60, 64, 67, 0.3), 0px 1px 3px 1px rgba(60, 64, 67, 0.15);\n",
              "      fill: #174EA6;\n",
              "    }\n",
              "\n",
              "    .colab-df-buttons div {\n",
              "      margin-bottom: 4px;\n",
              "    }\n",
              "\n",
              "    [theme=dark] .colab-df-convert {\n",
              "      background-color: #3B4455;\n",
              "      fill: #D2E3FC;\n",
              "    }\n",
              "\n",
              "    [theme=dark] .colab-df-convert:hover {\n",
              "      background-color: #434B5C;\n",
              "      box-shadow: 0px 1px 3px 1px rgba(0, 0, 0, 0.15);\n",
              "      filter: drop-shadow(0px 1px 2px rgba(0, 0, 0, 0.3));\n",
              "      fill: #FFFFFF;\n",
              "    }\n",
              "  </style>\n",
              "\n",
              "    <script>\n",
              "      const buttonEl =\n",
              "        document.querySelector('#df-fb6ff7bb-1a91-4875-b366-d77ac7041359 button.colab-df-convert');\n",
              "      buttonEl.style.display =\n",
              "        google.colab.kernel.accessAllowed ? 'block' : 'none';\n",
              "\n",
              "      async function convertToInteractive(key) {\n",
              "        const element = document.querySelector('#df-fb6ff7bb-1a91-4875-b366-d77ac7041359');\n",
              "        const dataTable =\n",
              "          await google.colab.kernel.invokeFunction('convertToInteractive',\n",
              "                                                    [key], {});\n",
              "        if (!dataTable) return;\n",
              "\n",
              "        const docLinkHtml = 'Like what you see? Visit the ' +\n",
              "          '<a target=\"_blank\" href=https://colab.research.google.com/notebooks/data_table.ipynb>data table notebook</a>'\n",
              "          + ' to learn more about interactive tables.';\n",
              "        element.innerHTML = '';\n",
              "        dataTable['output_type'] = 'display_data';\n",
              "        await google.colab.output.renderOutput(dataTable, element);\n",
              "        const docLink = document.createElement('div');\n",
              "        docLink.innerHTML = docLinkHtml;\n",
              "        element.appendChild(docLink);\n",
              "      }\n",
              "    </script>\n",
              "  </div>\n",
              "\n",
              "\n",
              "    </div>\n",
              "  </div>\n"
            ],
            "text/plain": [
              "         0         1         2         3         4         5         6   \\\n",
              "0  0.002487 -0.004158  0.004099 -0.041713  0.760856 -0.003247  0.002292   \n",
              "\n",
              "         7         8         9   ...        86        87        88        89  \\\n",
              "0 -0.003525  0.003682 -0.000018  ...  0.015021 -0.106491  0.047917 -0.123385   \n",
              "\n",
              "         90        91        92        93        94       95  \n",
              "0  0.066642 -0.086623  0.043077 -0.065746  0.002976  0.10817  \n",
              "\n",
              "[1 rows x 96 columns]"
            ]
          },
          "execution_count": 26,
          "metadata": {},
          "output_type": "execute_result"
        }
      ],
      "source": [
        "pd.DataFrame(ldaObject.coef_)"
      ]
    },
    {
      "cell_type": "code",
      "execution_count": 27,
      "metadata": {
        "id": "9euKqB-Q7f2K"
      },
      "outputs": [],
      "source": [
        "ldaCoeff = np.exp(np.abs(ldaObject.coef_)).flatten()"
      ]
    },
    {
      "cell_type": "code",
      "execution_count": 28,
      "metadata": {
        "id": "iSEyqomPEWWo"
      },
      "outputs": [],
      "source": [
        "no_of_features = X.shape[1]"
      ]
    },
    {
      "cell_type": "code",
      "execution_count": 29,
      "metadata": {
        "id": "8NioBr0dFWHM"
      },
      "outputs": [],
      "source": [
        "features_list = np.arange(no_of_features)"
      ]
    },
    {
      "cell_type": "code",
      "execution_count": 30,
      "metadata": {
        "colab": {
          "base_uri": "https://localhost:8080/"
        },
        "id": "__Xi_izIFfnX",
        "outputId": "d379599a-1a13-4df5-b459-b5defd61a8ed"
      },
      "outputs": [
        {
          "data": {
            "text/plain": [
              "array([ 0,  1,  2,  3,  4,  5,  6,  7,  8,  9, 10, 11, 12, 13, 14, 15, 16,\n",
              "       17, 18, 19, 20, 21, 22, 23, 24, 25, 26, 27, 28, 29, 30, 31, 32, 33,\n",
              "       34, 35, 36, 37, 38, 39, 40, 41, 42, 43, 44, 45, 46, 47, 48, 49, 50,\n",
              "       51, 52, 53, 54, 55, 56, 57, 58, 59, 60, 61, 62, 63, 64, 65, 66, 67,\n",
              "       68, 69, 70, 71, 72, 73, 74, 75, 76, 77, 78, 79, 80, 81, 82, 83, 84,\n",
              "       85, 86, 87, 88, 89, 90, 91, 92, 93, 94, 95])"
            ]
          },
          "execution_count": 30,
          "metadata": {},
          "output_type": "execute_result"
        }
      ],
      "source": [
        "features_list"
      ]
    },
    {
      "cell_type": "code",
      "execution_count": 31,
      "metadata": {
        "id": "mbs_tLByFgXf"
      },
      "outputs": [],
      "source": [
        "features_names = list(X.columns)"
      ]
    },
    {
      "cell_type": "code",
      "execution_count": 32,
      "metadata": {
        "colab": {
          "base_uri": "https://localhost:8080/",
          "height": 1000
        },
        "id": "akez3crpFs7v",
        "outputId": "849f9921-fa86-439b-e395-7c5d0ee77c7e"
      },
      "outputs": [
        {
          "data": {
            "image/png": "[encoded data removed]",
            "text/plain": [
              "<Figure size 2000x1800 with 1 Axes>"
            ]
          },
          "metadata": {},
          "output_type": "display_data"
        }
      ],
      "source": [
        "plt.figure(figsize = (20, 18))\n",
        "plt.bar(features_list, ldaCoeff, color = \"red\")\n",
        "plt.xticks(features_list, features_names, rotation = \"vertical\")\n",
        "plt.xlabel(\"Features\")\n",
        "plt.ylabel(\"Importance Score\")\n",
        "plt.show()"
      ]
    },
    {
      "cell_type": "code",
      "execution_count": 33,
      "metadata": {
        "id": "PWgBy5dRGM76"
      },
      "outputs": [],
      "source": [
        "df_features_score = pd.DataFrame({\"Feature Name\" : features_names, \"Feature Importance\" : ldaCoeff})"
      ]
    },
    {
      "cell_type": "code",
      "execution_count": 34,
      "metadata": {
        "colab": {
          "base_uri": "https://localhost:8080/",
          "height": 206
        },
        "id": "E6yu3CB1G64O",
        "outputId": "c8f5e311-dd7b-46e2-a9bd-60ad44117a91"
      },
      "outputs": [
        {
          "data": {
            "application/vnd.google.colaboratory.intrinsic+json": {
              "summary": "{\n  \"name\": \"df_features_score\",\n  \"rows\": 96,\n  \"fields\": [\n    {\n      \"column\": \"Feature Name\",\n      \"properties\": {\n        \"dtype\": \"string\",\n        \"num_unique_values\": 96,\n        \"samples\": [\n          \"ct_weapon_p2000\",\n          \"t_weapon_usps\",\n          \"t_weapon_deagle\"\n        ],\n        \"semantic_type\": \"\",\n        \"description\": \"\"\n      }\n    },\n    {\n      \"column\": \"Feature Importance\",\n      \"properties\": {\n        \"dtype\": \"number\",\n        \"std\": 4.079992191244719,\n        \"min\": 1.0000000000000002,\n        \"max\": 33.88961166853556,\n        \"num_unique_values\": 94,\n        \"samples\": [\n          1.4715606744791285,\n          1.0000000000000009,\n          7.1630665583889925\n        ],\n        \"semantic_type\": \"\",\n        \"description\": \"\"\n      }\n    }\n  ]\n}",
              "type": "dataframe",
              "variable_name": "df_features_score"
            },
            "text/html": [
              "\n",
              "  <div id=\"df-caafdf91-2fd5-4a52-be03-7587bf83d3ee\" class=\"colab-df-container\">\n",
              "    <div>\n",
              "<style scoped>\n",
              "    .dataframe tbody tr th:only-of-type {\n",
              "        vertical-align: middle;\n",
              "    }\n",
              "\n",
              "    .dataframe tbody tr th {\n",
              "        vertical-align: top;\n",
              "    }\n",
              "\n",
              "    .dataframe thead th {\n",
              "        text-align: right;\n",
              "    }\n",
              "</style>\n",
              "<table border=\"1\" class=\"dataframe\">\n",
              "  <thead>\n",
              "    <tr style=\"text-align: right;\">\n",
              "      <th></th>\n",
              "      <th>Feature Name</th>\n",
              "      <th>Feature Importance</th>\n",
              "    </tr>\n",
              "  </thead>\n",
              "  <tbody>\n",
              "    <tr>\n",
              "      <th>0</th>\n",
              "      <td>time_left</td>\n",
              "      <td>1.002490</td>\n",
              "    </tr>\n",
              "    <tr>\n",
              "      <th>1</th>\n",
              "      <td>ct_score</td>\n",
              "      <td>1.004167</td>\n",
              "    </tr>\n",
              "    <tr>\n",
              "      <th>2</th>\n",
              "      <td>t_score</td>\n",
              "      <td>1.004107</td>\n",
              "    </tr>\n",
              "    <tr>\n",
              "      <th>3</th>\n",
              "      <td>map</td>\n",
              "      <td>1.042595</td>\n",
              "    </tr>\n",
              "    <tr>\n",
              "      <th>4</th>\n",
              "      <td>bomb_planted</td>\n",
              "      <td>2.140108</td>\n",
              "    </tr>\n",
              "  </tbody>\n",
              "</table>\n",
              "</div>\n",
              "    <div class=\"colab-df-buttons\">\n",
              "\n",
              "  <div class=\"colab-df-container\">\n",
              "    <button class=\"colab-df-convert\" onclick=\"convertToInteractive('df-caafdf91-2fd5-4a52-be03-7587bf83d3ee')\"\n",
              "            title=\"Convert this dataframe to an interactive table.\"\n",
              "            style=\"display:none;\">\n",
              "\n",
              "  <svg xmlns=\"http://www.w3.org/2000/svg\" height=\"24px\" viewBox=\"0 -960 960 960\">\n",
              "    <path d=\"M120-120v-720h720v720H120Zm60-500h600v-160H180v160Zm220 220h160v-160H400v160Zm0 220h160v-160H400v160ZM180-400h160v-160H180v160Zm440 0h160v-160H620v160ZM180-180h160v-160H180v160Zm440 0h160v-160H620v160Z\"/>\n",
              "  </svg>\n",
              "    </button>\n",
              "\n",
              "  <style>\n",
              "    .colab-df-container {\n",
              "      display:flex;\n",
              "      gap: 12px;\n",
              "    }\n",
              "\n",
              "    .colab-df-convert {\n",
              "      background-color: #E8F0FE;\n",
              "      border: none;\n",
              "      border-radius: 50%;\n",
              "      cursor: pointer;\n",
              "      display: none;\n",
              "      fill: #1967D2;\n",
              "      height: 32px;\n",
              "      padding: 0 0 0 0;\n",
              "      width: 32px;\n",
              "    }\n",
              "\n",
              "    .colab-df-convert:hover {\n",
              "      background-color: #E2EBFA;\n",
              "      box-shadow: 0px 1px 2px rgba(60, 64, 67, 0.3), 0px 1px 3px 1px rgba(60, 64, 67, 0.15);\n",
              "      fill: #174EA6;\n",
              "    }\n",
              "\n",
              "    .colab-df-buttons div {\n",
              "      margin-bottom: 4px;\n",
              "    }\n",
              "\n",
              "    [theme=dark] .colab-df-convert {\n",
              "      background-color: #3B4455;\n",
              "      fill: #D2E3FC;\n",
              "    }\n",
              "\n",
              "    [theme=dark] .colab-df-convert:hover {\n",
              "      background-color: #434B5C;\n",
              "      box-shadow: 0px 1px 3px 1px rgba(0, 0, 0, 0.15);\n",
              "      filter: drop-shadow(0px 1px 2px rgba(0, 0, 0, 0.3));\n",
              "      fill: #FFFFFF;\n",
              "    }\n",
              "  </style>\n",
              "\n",
              "    <script>\n",
              "      const buttonEl =\n",
              "        document.querySelector('#df-caafdf91-2fd5-4a52-be03-7587bf83d3ee button.colab-df-convert');\n",
              "      buttonEl.style.display =\n",
              "        google.colab.kernel.accessAllowed ? 'block' : 'none';\n",
              "\n",
              "      async function convertToInteractive(key) {\n",
              "        const element = document.querySelector('#df-caafdf91-2fd5-4a52-be03-7587bf83d3ee');\n",
              "        const dataTable =\n",
              "          await google.colab.kernel.invokeFunction('convertToInteractive',\n",
              "                                                    [key], {});\n",
              "        if (!dataTable) return;\n",
              "\n",
              "        const docLinkHtml = 'Like what you see? Visit the ' +\n",
              "          '<a target=\"_blank\" href=https://colab.research.google.com/notebooks/data_table.ipynb>data table notebook</a>'\n",
              "          + ' to learn more about interactive tables.';\n",
              "        element.innerHTML = '';\n",
              "        dataTable['output_type'] = 'display_data';\n",
              "        await google.colab.output.renderOutput(dataTable, element);\n",
              "        const docLink = document.createElement('div');\n",
              "        docLink.innerHTML = docLinkHtml;\n",
              "        element.appendChild(docLink);\n",
              "      }\n",
              "    </script>\n",
              "  </div>\n",
              "\n",
              "\n",
              "<div id=\"df-3727cc84-9f8c-41bc-8618-f34e9c5f4aaa\">\n",
              "  <button class=\"colab-df-quickchart\" onclick=\"quickchart('df-3727cc84-9f8c-41bc-8618-f34e9c5f4aaa')\"\n",
              "            title=\"Suggest charts\"\n",
              "            style=\"display:none;\">\n",
              "\n",
              "<svg xmlns=\"http://www.w3.org/2000/svg\" height=\"24px\"viewBox=\"0 0 24 24\"\n",
              "     width=\"24px\">\n",
              "    <g>\n",
              "        <path d=\"M19 3H5c-1.1 0-2 .9-2 2v14c0 1.1.9 2 2 2h14c1.1 0 2-.9 2-2V5c0-1.1-.9-2-2-2zM9 17H7v-7h2v7zm4 0h-2V7h2v10zm4 0h-2v-4h2v4z\"/>\n",
              "    </g>\n",
              "</svg>\n",
              "  </button>\n",
              "\n",
              "<style>\n",
              "  .colab-df-quickchart {\n",
              "      --bg-color: #E8F0FE;\n",
              "      --fill-color: #1967D2;\n",
              "      --hover-bg-color: #E2EBFA;\n",
              "      --hover-fill-color: #174EA6;\n",
              "      --disabled-fill-color: #AAA;\n",
              "      --disabled-bg-color: #DDD;\n",
              "  }\n",
              "\n",
              "  [theme=dark] .colab-df-quickchart {\n",
              "      --bg-color: #3B4455;\n",
              "      --fill-color: #D2E3FC;\n",
              "      --hover-bg-color: #434B5C;\n",
              "      --hover-fill-color: #FFFFFF;\n",
              "      --disabled-bg-color: #3B4455;\n",
              "      --disabled-fill-color: #666;\n",
              "  }\n",
              "\n",
              "  .colab-df-quickchart {\n",
              "    background-color: var(--bg-color);\n",
              "    border: none;\n",
              "    border-radius: 50%;\n",
              "    cursor: pointer;\n",
              "    display: none;\n",
              "    fill: var(--fill-color);\n",
              "    height: 32px;\n",
              "    padding: 0;\n",
              "    width: 32px;\n",
              "  }\n",
              "\n",
              "  .colab-df-quickchart:hover {\n",
              "    background-color: var(--hover-bg-color);\n",
              "    box-shadow: 0 1px 2px rgba(60, 64, 67, 0.3), 0 1px 3px 1px rgba(60, 64, 67, 0.15);\n",
              "    fill: var(--button-hover-fill-color);\n",
              "  }\n",
              "\n",
              "  .colab-df-quickchart-complete:disabled,\n",
              "  .colab-df-quickchart-complete:disabled:hover {\n",
              "    background-color: var(--disabled-bg-color);\n",
              "    fill: var(--disabled-fill-color);\n",
              "    box-shadow: none;\n",
              "  }\n",
              "\n",
              "  .colab-df-spinner {\n",
              "    border: 2px solid var(--fill-color);\n",
              "    border-color: transparent;\n",
              "    border-bottom-color: var(--fill-color);\n",
              "    animation:\n",
              "      spin 1s steps(1) infinite;\n",
              "  }\n",
              "\n",
              "  @keyframes spin {\n",
              "    0% {\n",
              "      border-color: transparent;\n",
              "      border-bottom-color: var(--fill-color);\n",
              "      border-left-color: var(--fill-color);\n",
              "    }\n",
              "    20% {\n",
              "      border-color: transparent;\n",
              "      border-left-color: var(--fill-color);\n",
              "      border-top-color: var(--fill-color);\n",
              "    }\n",
              "    30% {\n",
              "      border-color: transparent;\n",
              "      border-left-color: var(--fill-color);\n",
              "      border-top-color: var(--fill-color);\n",
              "      border-right-color: var(--fill-color);\n",
              "    }\n",
              "    40% {\n",
              "      border-color: transparent;\n",
              "      border-right-color: var(--fill-color);\n",
              "      border-top-color: var(--fill-color);\n",
              "    }\n",
              "    60% {\n",
              "      border-color: transparent;\n",
              "      border-right-color: var(--fill-color);\n",
              "    }\n",
              "    80% {\n",
              "      border-color: transparent;\n",
              "      border-right-color: var(--fill-color);\n",
              "      border-bottom-color: var(--fill-color);\n",
              "    }\n",
              "    90% {\n",
              "      border-color: transparent;\n",
              "      border-bottom-color: var(--fill-color);\n",
              "    }\n",
              "  }\n",
              "</style>\n",
              "\n",
              "  <script>\n",
              "    async function quickchart(key) {\n",
              "      const quickchartButtonEl =\n",
              "        document.querySelector('#' + key + ' button');\n",
              "      quickchartButtonEl.disabled = true;  // To prevent multiple clicks.\n",
              "      quickchartButtonEl.classList.add('colab-df-spinner');\n",
              "      try {\n",
              "        const charts = await google.colab.kernel.invokeFunction(\n",
              "            'suggestCharts', [key], {});\n",
              "      } catch (error) {\n",
              "        console.error('Error during call to suggestCharts:', error);\n",
              "      }\n",
              "      quickchartButtonEl.classList.remove('colab-df-spinner');\n",
              "      quickchartButtonEl.classList.add('colab-df-quickchart-complete');\n",
              "    }\n",
              "    (() => {\n",
              "      let quickchartButtonEl =\n",
              "        document.querySelector('#df-3727cc84-9f8c-41bc-8618-f34e9c5f4aaa button');\n",
              "      quickchartButtonEl.style.display =\n",
              "        google.colab.kernel.accessAllowed ? 'block' : 'none';\n",
              "    })();\n",
              "  </script>\n",
              "</div>\n",
              "\n",
              "    </div>\n",
              "  </div>\n"
            ],
            "text/plain": [
              "   Feature Name  Feature Importance\n",
              "0     time_left            1.002490\n",
              "1      ct_score            1.004167\n",
              "2       t_score            1.004107\n",
              "3           map            1.042595\n",
              "4  bomb_planted            2.140108"
            ]
          },
          "execution_count": 34,
          "metadata": {},
          "output_type": "execute_result"
        }
      ],
      "source": [
        "df_features_score.head()"
      ]
    },
    {
      "cell_type": "code",
      "execution_count": 59,
      "metadata": {
        "id": "v-oi_jAXG8Eh"
      },
      "outputs": [],
      "source": [
        "top_10_values = df_features_score.nlargest(35, \"Feature Importance\")"
      ]
    },
    {
      "cell_type": "code",
      "execution_count": 60,
      "metadata": {
        "colab": {
          "base_uri": "https://localhost:8080/",
          "height": 1000
        },
        "id": "byrh_t0NHPKQ",
        "outputId": "2a7f08b0-35ff-427e-c003-bacd214649df"
      },
      "outputs": [
        {
          "data": {
            "application/vnd.google.colaboratory.intrinsic+json": {
              "summary": "{\n  \"name\": \"top_10_values\",\n  \"rows\": 35,\n  \"fields\": [\n    {\n      \"column\": \"Feature Name\",\n      \"properties\": {\n        \"dtype\": \"string\",\n        \"num_unique_values\": 35,\n        \"samples\": [\n          \"t_weapon_fiveseven\",\n          \"ct_weapon_nova\",\n          \"ct_weapon_sg553\"\n        ],\n        \"semantic_type\": \"\",\n        \"description\": \"\"\n      }\n    },\n    {\n      \"column\": \"Feature Importance\",\n      \"properties\": {\n        \"dtype\": \"number\",\n        \"std\": 6.551624512025838,\n        \"min\": 1.3530752164521433,\n        \"max\": 33.88961166853556,\n        \"num_unique_values\": 35,\n        \"samples\": [\n          1.4262950897925335,\n          1.6341677927790155,\n          1.4523411502992558\n        ],\n        \"semantic_type\": \"\",\n        \"description\": \"\"\n      }\n    }\n  ]\n}",
              "type": "dataframe",
              "variable_name": "top_10_values"
            },
            "text/html": [
              "\n",
              "  <div id=\"df-197b5ac8-969a-45d7-a412-9bb8f3cf0954\" class=\"colab-df-container\">\n",
              "    <div>\n",
              "<style scoped>\n",
              "    .dataframe tbody tr th:only-of-type {\n",
              "        vertical-align: middle;\n",
              "    }\n",
              "\n",
              "    .dataframe tbody tr th {\n",
              "        vertical-align: top;\n",
              "    }\n",
              "\n",
              "    .dataframe thead th {\n",
              "        text-align: right;\n",
              "    }\n",
              "</style>\n",
              "<table border=\"1\" class=\"dataframe\">\n",
              "  <thead>\n",
              "    <tr style=\"text-align: right;\">\n",
              "      <th></th>\n",
              "      <th>Feature Name</th>\n",
              "      <th>Feature Importance</th>\n",
              "    </tr>\n",
              "  </thead>\n",
              "  <tbody>\n",
              "    <tr>\n",
              "      <th>36</th>\n",
              "      <td>ct_weapon_m249</td>\n",
              "      <td>33.889612</td>\n",
              "    </tr>\n",
              "    <tr>\n",
              "      <th>55</th>\n",
              "      <td>t_weapon_nova</td>\n",
              "      <td>23.834262</td>\n",
              "    </tr>\n",
              "    <tr>\n",
              "      <th>56</th>\n",
              "      <td>ct_weapon_p90</td>\n",
              "      <td>7.163067</td>\n",
              "    </tr>\n",
              "    <tr>\n",
              "      <th>61</th>\n",
              "      <td>t_weapon_sawedoff</td>\n",
              "      <td>3.365231</td>\n",
              "    </tr>\n",
              "    <tr>\n",
              "      <th>57</th>\n",
              "      <td>t_weapon_p90</td>\n",
              "      <td>3.042336</td>\n",
              "    </tr>\n",
              "    <tr>\n",
              "      <th>39</th>\n",
              "      <td>t_weapon_m4a1s</td>\n",
              "      <td>2.345074</td>\n",
              "    </tr>\n",
              "    <tr>\n",
              "      <th>4</th>\n",
              "      <td>bomb_planted</td>\n",
              "      <td>2.140108</td>\n",
              "    </tr>\n",
              "    <tr>\n",
              "      <th>29</th>\n",
              "      <td>t_weapon_famas</td>\n",
              "      <td>2.063690</td>\n",
              "    </tr>\n",
              "    <tr>\n",
              "      <th>47</th>\n",
              "      <td>t_weapon_mp5sd</td>\n",
              "      <td>1.996434</td>\n",
              "    </tr>\n",
              "    <tr>\n",
              "      <th>45</th>\n",
              "      <td>t_weapon_mag7</td>\n",
              "      <td>1.908542</td>\n",
              "    </tr>\n",
              "    <tr>\n",
              "      <th>31</th>\n",
              "      <td>t_weapon_g3sg1</td>\n",
              "      <td>1.848842</td>\n",
              "    </tr>\n",
              "    <tr>\n",
              "      <th>21</th>\n",
              "      <td>t_weapon_awp</td>\n",
              "      <td>1.666846</td>\n",
              "    </tr>\n",
              "    <tr>\n",
              "      <th>65</th>\n",
              "      <td>t_weapon_sg553</td>\n",
              "      <td>1.646124</td>\n",
              "    </tr>\n",
              "    <tr>\n",
              "      <th>54</th>\n",
              "      <td>ct_weapon_nova</td>\n",
              "      <td>1.634168</td>\n",
              "    </tr>\n",
              "    <tr>\n",
              "      <th>32</th>\n",
              "      <td>ct_weapon_galilar</td>\n",
              "      <td>1.630541</td>\n",
              "    </tr>\n",
              "    <tr>\n",
              "      <th>51</th>\n",
              "      <td>t_weapon_mp9</td>\n",
              "      <td>1.627826</td>\n",
              "    </tr>\n",
              "    <tr>\n",
              "      <th>20</th>\n",
              "      <td>ct_weapon_awp</td>\n",
              "      <td>1.589660</td>\n",
              "    </tr>\n",
              "    <tr>\n",
              "      <th>59</th>\n",
              "      <td>t_weapon_r8revolver</td>\n",
              "      <td>1.588811</td>\n",
              "    </tr>\n",
              "    <tr>\n",
              "      <th>18</th>\n",
              "      <td>ct_weapon_aug</td>\n",
              "      <td>1.581564</td>\n",
              "    </tr>\n",
              "    <tr>\n",
              "      <th>17</th>\n",
              "      <td>t_weapon_ak47</td>\n",
              "      <td>1.578745</td>\n",
              "    </tr>\n",
              "    <tr>\n",
              "      <th>69</th>\n",
              "      <td>t_weapon_ump45</td>\n",
              "      <td>1.569604</td>\n",
              "    </tr>\n",
              "    <tr>\n",
              "      <th>41</th>\n",
              "      <td>t_weapon_m4a4</td>\n",
              "      <td>1.555445</td>\n",
              "    </tr>\n",
              "    <tr>\n",
              "      <th>19</th>\n",
              "      <td>t_weapon_aug</td>\n",
              "      <td>1.505681</td>\n",
              "    </tr>\n",
              "    <tr>\n",
              "      <th>40</th>\n",
              "      <td>ct_weapon_m4a4</td>\n",
              "      <td>1.471561</td>\n",
              "    </tr>\n",
              "    <tr>\n",
              "      <th>64</th>\n",
              "      <td>ct_weapon_sg553</td>\n",
              "      <td>1.452341</td>\n",
              "    </tr>\n",
              "    <tr>\n",
              "      <th>28</th>\n",
              "      <td>ct_weapon_famas</td>\n",
              "      <td>1.444394</td>\n",
              "    </tr>\n",
              "    <tr>\n",
              "      <th>75</th>\n",
              "      <td>t_weapon_fiveseven</td>\n",
              "      <td>1.426295</td>\n",
              "    </tr>\n",
              "    <tr>\n",
              "      <th>38</th>\n",
              "      <td>ct_weapon_m4a1s</td>\n",
              "      <td>1.413006</td>\n",
              "    </tr>\n",
              "    <tr>\n",
              "      <th>44</th>\n",
              "      <td>ct_weapon_mag7</td>\n",
              "      <td>1.406423</td>\n",
              "    </tr>\n",
              "    <tr>\n",
              "      <th>33</th>\n",
              "      <td>t_weapon_galilar</td>\n",
              "      <td>1.391033</td>\n",
              "    </tr>\n",
              "    <tr>\n",
              "      <th>16</th>\n",
              "      <td>ct_weapon_ak47</td>\n",
              "      <td>1.386376</td>\n",
              "    </tr>\n",
              "    <tr>\n",
              "      <th>62</th>\n",
              "      <td>ct_weapon_scar20</td>\n",
              "      <td>1.368801</td>\n",
              "    </tr>\n",
              "    <tr>\n",
              "      <th>27</th>\n",
              "      <td>t_weapon_elite</td>\n",
              "      <td>1.367812</td>\n",
              "    </tr>\n",
              "    <tr>\n",
              "      <th>15</th>\n",
              "      <td>t_players_alive</td>\n",
              "      <td>1.354404</td>\n",
              "    </tr>\n",
              "    <tr>\n",
              "      <th>66</th>\n",
              "      <td>ct_weapon_ssg08</td>\n",
              "      <td>1.353075</td>\n",
              "    </tr>\n",
              "  </tbody>\n",
              "</table>\n",
              "</div>\n",
              "    <div class=\"colab-df-buttons\">\n",
              "\n",
              "  <div class=\"colab-df-container\">\n",
              "    <button class=\"colab-df-convert\" onclick=\"convertToInteractive('df-197b5ac8-969a-45d7-a412-9bb8f3cf0954')\"\n",
              "            title=\"Convert this dataframe to an interactive table.\"\n",
              "            style=\"display:none;\">\n",
              "\n",
              "  <svg xmlns=\"http://www.w3.org/2000/svg\" height=\"24px\" viewBox=\"0 -960 960 960\">\n",
              "    <path d=\"M120-120v-720h720v720H120Zm60-500h600v-160H180v160Zm220 220h160v-160H400v160Zm0 220h160v-160H400v160ZM180-400h160v-160H180v160Zm440 0h160v-160H620v160ZM180-180h160v-160H180v160Zm440 0h160v-160H620v160Z\"/>\n",
              "  </svg>\n",
              "    </button>\n",
              "\n",
              "  <style>\n",
              "    .colab-df-container {\n",
              "      display:flex;\n",
              "      gap: 12px;\n",
              "    }\n",
              "\n",
              "    .colab-df-convert {\n",
              "      background-color: #E8F0FE;\n",
              "      border: none;\n",
              "      border-radius: 50%;\n",
              "      cursor: pointer;\n",
              "      display: none;\n",
              "      fill: #1967D2;\n",
              "      height: 32px;\n",
              "      padding: 0 0 0 0;\n",
              "      width: 32px;\n",
              "    }\n",
              "\n",
              "    .colab-df-convert:hover {\n",
              "      background-color: #E2EBFA;\n",
              "      box-shadow: 0px 1px 2px rgba(60, 64, 67, 0.3), 0px 1px 3px 1px rgba(60, 64, 67, 0.15);\n",
              "      fill: #174EA6;\n",
              "    }\n",
              "\n",
              "    .colab-df-buttons div {\n",
              "      margin-bottom: 4px;\n",
              "    }\n",
              "\n",
              "    [theme=dark] .colab-df-convert {\n",
              "      background-color: #3B4455;\n",
              "      fill: #D2E3FC;\n",
              "    }\n",
              "\n",
              "    [theme=dark] .colab-df-convert:hover {\n",
              "      background-color: #434B5C;\n",
              "      box-shadow: 0px 1px 3px 1px rgba(0, 0, 0, 0.15);\n",
              "      filter: drop-shadow(0px 1px 2px rgba(0, 0, 0, 0.3));\n",
              "      fill: #FFFFFF;\n",
              "    }\n",
              "  </style>\n",
              "\n",
              "    <script>\n",
              "      const buttonEl =\n",
              "        document.querySelector('#df-197b5ac8-969a-45d7-a412-9bb8f3cf0954 button.colab-df-convert');\n",
              "      buttonEl.style.display =\n",
              "        google.colab.kernel.accessAllowed ? 'block' : 'none';\n",
              "\n",
              "      async function convertToInteractive(key) {\n",
              "        const element = document.querySelector('#df-197b5ac8-969a-45d7-a412-9bb8f3cf0954');\n",
              "        const dataTable =\n",
              "          await google.colab.kernel.invokeFunction('convertToInteractive',\n",
              "                                                    [key], {});\n",
              "        if (!dataTable) return;\n",
              "\n",
              "        const docLinkHtml = 'Like what you see? Visit the ' +\n",
              "          '<a target=\"_blank\" href=https://colab.research.google.com/notebooks/data_table.ipynb>data table notebook</a>'\n",
              "          + ' to learn more about interactive tables.';\n",
              "        element.innerHTML = '';\n",
              "        dataTable['output_type'] = 'display_data';\n",
              "        await google.colab.output.renderOutput(dataTable, element);\n",
              "        const docLink = document.createElement('div');\n",
              "        docLink.innerHTML = docLinkHtml;\n",
              "        element.appendChild(docLink);\n",
              "      }\n",
              "    </script>\n",
              "  </div>\n",
              "\n",
              "\n",
              "<div id=\"df-2468483d-90e0-4d43-83f8-974a3d1419eb\">\n",
              "  <button class=\"colab-df-quickchart\" onclick=\"quickchart('df-2468483d-90e0-4d43-83f8-974a3d1419eb')\"\n",
              "            title=\"Suggest charts\"\n",
              "            style=\"display:none;\">\n",
              "\n",
              "<svg xmlns=\"http://www.w3.org/2000/svg\" height=\"24px\"viewBox=\"0 0 24 24\"\n",
              "     width=\"24px\">\n",
              "    <g>\n",
              "        <path d=\"M19 3H5c-1.1 0-2 .9-2 2v14c0 1.1.9 2 2 2h14c1.1 0 2-.9 2-2V5c0-1.1-.9-2-2-2zM9 17H7v-7h2v7zm4 0h-2V7h2v10zm4 0h-2v-4h2v4z\"/>\n",
              "    </g>\n",
              "</svg>\n",
              "  </button>\n",
              "\n",
              "<style>\n",
              "  .colab-df-quickchart {\n",
              "      --bg-color: #E8F0FE;\n",
              "      --fill-color: #1967D2;\n",
              "      --hover-bg-color: #E2EBFA;\n",
              "      --hover-fill-color: #174EA6;\n",
              "      --disabled-fill-color: #AAA;\n",
              "      --disabled-bg-color: #DDD;\n",
              "  }\n",
              "\n",
              "  [theme=dark] .colab-df-quickchart {\n",
              "      --bg-color: #3B4455;\n",
              "      --fill-color: #D2E3FC;\n",
              "      --hover-bg-color: #434B5C;\n",
              "      --hover-fill-color: #FFFFFF;\n",
              "      --disabled-bg-color: #3B4455;\n",
              "      --disabled-fill-color: #666;\n",
              "  }\n",
              "\n",
              "  .colab-df-quickchart {\n",
              "    background-color: var(--bg-color);\n",
              "    border: none;\n",
              "    border-radius: 50%;\n",
              "    cursor: pointer;\n",
              "    display: none;\n",
              "    fill: var(--fill-color);\n",
              "    height: 32px;\n",
              "    padding: 0;\n",
              "    width: 32px;\n",
              "  }\n",
              "\n",
              "  .colab-df-quickchart:hover {\n",
              "    background-color: var(--hover-bg-color);\n",
              "    box-shadow: 0 1px 2px rgba(60, 64, 67, 0.3), 0 1px 3px 1px rgba(60, 64, 67, 0.15);\n",
              "    fill: var(--button-hover-fill-color);\n",
              "  }\n",
              "\n",
              "  .colab-df-quickchart-complete:disabled,\n",
              "  .colab-df-quickchart-complete:disabled:hover {\n",
              "    background-color: var(--disabled-bg-color);\n",
              "    fill: var(--disabled-fill-color);\n",
              "    box-shadow: none;\n",
              "  }\n",
              "\n",
              "  .colab-df-spinner {\n",
              "    border: 2px solid var(--fill-color);\n",
              "    border-color: transparent;\n",
              "    border-bottom-color: var(--fill-color);\n",
              "    animation:\n",
              "      spin 1s steps(1) infinite;\n",
              "  }\n",
              "\n",
              "  @keyframes spin {\n",
              "    0% {\n",
              "      border-color: transparent;\n",
              "      border-bottom-color: var(--fill-color);\n",
              "      border-left-color: var(--fill-color);\n",
              "    }\n",
              "    20% {\n",
              "      border-color: transparent;\n",
              "      border-left-color: var(--fill-color);\n",
              "      border-top-color: var(--fill-color);\n",
              "    }\n",
              "    30% {\n",
              "      border-color: transparent;\n",
              "      border-left-color: var(--fill-color);\n",
              "      border-top-color: var(--fill-color);\n",
              "      border-right-color: var(--fill-color);\n",
              "    }\n",
              "    40% {\n",
              "      border-color: transparent;\n",
              "      border-right-color: var(--fill-color);\n",
              "      border-top-color: var(--fill-color);\n",
              "    }\n",
              "    60% {\n",
              "      border-color: transparent;\n",
              "      border-right-color: var(--fill-color);\n",
              "    }\n",
              "    80% {\n",
              "      border-color: transparent;\n",
              "      border-right-color: var(--fill-color);\n",
              "      border-bottom-color: var(--fill-color);\n",
              "    }\n",
              "    90% {\n",
              "      border-color: transparent;\n",
              "      border-bottom-color: var(--fill-color);\n",
              "    }\n",
              "  }\n",
              "</style>\n",
              "\n",
              "  <script>\n",
              "    async function quickchart(key) {\n",
              "      const quickchartButtonEl =\n",
              "        document.querySelector('#' + key + ' button');\n",
              "      quickchartButtonEl.disabled = true;  // To prevent multiple clicks.\n",
              "      quickchartButtonEl.classList.add('colab-df-spinner');\n",
              "      try {\n",
              "        const charts = await google.colab.kernel.invokeFunction(\n",
              "            'suggestCharts', [key], {});\n",
              "      } catch (error) {\n",
              "        console.error('Error during call to suggestCharts:', error);\n",
              "      }\n",
              "      quickchartButtonEl.classList.remove('colab-df-spinner');\n",
              "      quickchartButtonEl.classList.add('colab-df-quickchart-complete');\n",
              "    }\n",
              "    (() => {\n",
              "      let quickchartButtonEl =\n",
              "        document.querySelector('#df-2468483d-90e0-4d43-83f8-974a3d1419eb button');\n",
              "      quickchartButtonEl.style.display =\n",
              "        google.colab.kernel.accessAllowed ? 'block' : 'none';\n",
              "    })();\n",
              "  </script>\n",
              "</div>\n",
              "\n",
              "  <div id=\"id_1d57db67-b7bd-4242-8480-9699e9ef8c3b\">\n",
              "    <style>\n",
              "      .colab-df-generate {\n",
              "        background-color: #E8F0FE;\n",
              "        border: none;\n",
              "        border-radius: 50%;\n",
              "        cursor: pointer;\n",
              "        display: none;\n",
              "        fill: #1967D2;\n",
              "        height: 32px;\n",
              "        padding: 0 0 0 0;\n",
              "        width: 32px;\n",
              "      }\n",
              "\n",
              "      .colab-df-generate:hover {\n",
              "        background-color: #E2EBFA;\n",
              "        box-shadow: 0px 1px 2px rgba(60, 64, 67, 0.3), 0px 1px 3px 1px rgba(60, 64, 67, 0.15);\n",
              "        fill: #174EA6;\n",
              "      }\n",
              "\n",
              "      [theme=dark] .colab-df-generate {\n",
              "        background-color: #3B4455;\n",
              "        fill: #D2E3FC;\n",
              "      }\n",
              "\n",
              "      [theme=dark] .colab-df-generate:hover {\n",
              "        background-color: #434B5C;\n",
              "        box-shadow: 0px 1px 3px 1px rgba(0, 0, 0, 0.15);\n",
              "        filter: drop-shadow(0px 1px 2px rgba(0, 0, 0, 0.3));\n",
              "        fill: #FFFFFF;\n",
              "      }\n",
              "    </style>\n",
              "    <button class=\"colab-df-generate\" onclick=\"generateWithVariable('top_10_values')\"\n",
              "            title=\"Generate code using this dataframe.\"\n",
              "            style=\"display:none;\">\n",
              "\n",
              "  <svg xmlns=\"http://www.w3.org/2000/svg\" height=\"24px\"viewBox=\"0 0 24 24\"\n",
              "       width=\"24px\">\n",
              "    <path d=\"M7,19H8.4L18.45,9,17,7.55,7,17.6ZM5,21V16.75L18.45,3.32a2,2,0,0,1,2.83,0l1.4,1.43a1.91,1.91,0,0,1,.58,1.4,1.91,1.91,0,0,1-.58,1.4L9.25,21ZM18.45,9,17,7.55Zm-12,3A5.31,5.31,0,0,0,4.9,8.1,5.31,5.31,0,0,0,1,6.5,5.31,5.31,0,0,0,4.9,4.9,5.31,5.31,0,0,0,6.5,1,5.31,5.31,0,0,0,8.1,4.9,5.31,5.31,0,0,0,12,6.5,5.46,5.46,0,0,0,6.5,12Z\"/>\n",
              "  </svg>\n",
              "    </button>\n",
              "    <script>\n",
              "      (() => {\n",
              "      const buttonEl =\n",
              "        document.querySelector('#id_1d57db67-b7bd-4242-8480-9699e9ef8c3b button.colab-df-generate');\n",
              "      buttonEl.style.display =\n",
              "        google.colab.kernel.accessAllowed ? 'block' : 'none';\n",
              "\n",
              "      buttonEl.onclick = () => {\n",
              "        google.colab.notebook.generateWithVariable('top_10_values');\n",
              "      }\n",
              "      })();\n",
              "    </script>\n",
              "  </div>\n",
              "\n",
              "    </div>\n",
              "  </div>\n"
            ],
            "text/plain": [
              "           Feature Name  Feature Importance\n",
              "36       ct_weapon_m249           33.889612\n",
              "55        t_weapon_nova           23.834262\n",
              "56        ct_weapon_p90            7.163067\n",
              "61    t_weapon_sawedoff            3.365231\n",
              "57         t_weapon_p90            3.042336\n",
              "39       t_weapon_m4a1s            2.345074\n",
              "4          bomb_planted            2.140108\n",
              "29       t_weapon_famas            2.063690\n",
              "47       t_weapon_mp5sd            1.996434\n",
              "45        t_weapon_mag7            1.908542\n",
              "31       t_weapon_g3sg1            1.848842\n",
              "21         t_weapon_awp            1.666846\n",
              "65       t_weapon_sg553            1.646124\n",
              "54       ct_weapon_nova            1.634168\n",
              "32    ct_weapon_galilar            1.630541\n",
              "51         t_weapon_mp9            1.627826\n",
              "20        ct_weapon_awp            1.589660\n",
              "59  t_weapon_r8revolver            1.588811\n",
              "18        ct_weapon_aug            1.581564\n",
              "17        t_weapon_ak47            1.578745\n",
              "69       t_weapon_ump45            1.569604\n",
              "41        t_weapon_m4a4            1.555445\n",
              "19         t_weapon_aug            1.505681\n",
              "40       ct_weapon_m4a4            1.471561\n",
              "64      ct_weapon_sg553            1.452341\n",
              "28      ct_weapon_famas            1.444394\n",
              "75   t_weapon_fiveseven            1.426295\n",
              "38      ct_weapon_m4a1s            1.413006\n",
              "44       ct_weapon_mag7            1.406423\n",
              "33     t_weapon_galilar            1.391033\n",
              "16       ct_weapon_ak47            1.386376\n",
              "62     ct_weapon_scar20            1.368801\n",
              "27       t_weapon_elite            1.367812\n",
              "15      t_players_alive            1.354404\n",
              "66      ct_weapon_ssg08            1.353075"
            ]
          },
          "execution_count": 60,
          "metadata": {},
          "output_type": "execute_result"
        }
      ],
      "source": [
        "top_10_values"
      ]
    },
    {
      "cell_type": "markdown",
      "metadata": {
        "id": "kGnJxn65kPEh"
      },
      "source": [
        "<hr>\n",
        "\n",
        "<img src = \"https://imgs.search.brave.com/U7euU0VnN0H6Lv8i5ga5UR2lhZr6o2VoYWxIoJRFo8s/rs:fit:500:0:0/g:ce/aHR0cHM6Ly91cGxv/YWQud2lraW1lZGlh/Lm9yZy93aWtpcGVk/aWEvY29tbW9ucy90/aHVtYi83LzdlL0lu/dGVyc2VjdGluZ19w/bGFuZXMuc3ZnLzY0/MHB4LUludGVyc2Vj/dGluZ19wbGFuZXMu/c3ZnLnBuZw\"/>"
      ]
    },
    {
      "cell_type": "markdown",
      "metadata": {
        "id": "8xKpkdgDkhWW"
      },
      "source": [
        "<hr>\n",
        "\n",
        "<img src = \"data:image/jpeg;base64,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\"/>\n"
      ]
    },
    {
      "cell_type": "code",
      "execution_count": 61,
      "metadata": {
        "colab": {
          "base_uri": "https://localhost:8080/"
        },
        "id": "GtuvuqEkJvy1",
        "outputId": "40615b13-e57f-422a-9922-d0e300ec3923"
      },
      "outputs": [
        {
          "name": "stdout",
          "output_type": "stream",
          "text": [
            "0.7424902935767318\n"
          ]
        }
      ],
      "source": [
        "model = LogisticRegression()\n",
        "\n",
        "model.fit(x_train, y_train)\n",
        "\n",
        "pred = model.predict(x_test)\n",
        "\n",
        "print(accuracy_score(y_test, pred))"
      ]
    },
    {
      "cell_type": "code",
      "execution_count": 62,
      "metadata": {
        "colab": {
          "base_uri": "https://localhost:8080/"
        },
        "id": "Bwx11ASSLrFU",
        "outputId": "501e246a-0871-496c-9391-87e1a695327e"
      },
      "outputs": [
        {
          "name": "stdout",
          "output_type": "stream",
          "text": [
            "              precision    recall  f1-score   support\n",
            "\n",
            "           0       0.75      0.71      0.73     14426\n",
            "           1       0.74      0.77      0.75     14936\n",
            "\n",
            "    accuracy                           0.74     29362\n",
            "   macro avg       0.74      0.74      0.74     29362\n",
            "weighted avg       0.74      0.74      0.74     29362\n",
            "\n"
          ]
        }
      ],
      "source": [
        "print(classification_report(y_test, pred))"
      ]
    },
    {
      "cell_type": "markdown",
      "metadata": {
        "id": "htJUf6HzJiiD"
      },
      "source": [
        "**Models for LDA-based Data**"
      ]
    },
    {
      "cell_type": "code",
      "execution_count": 63,
      "metadata": {
        "id": "zPOacCQ_HRGJ"
      },
      "outputs": [],
      "source": [
        "X_selected = df[top_10_values['Feature Name']]\n",
        "Y = df[\"round_winner\"]"
      ]
    },
    {
      "cell_type": "code",
      "execution_count": 64,
      "metadata": {
        "id": "FnM2izUcKr9F"
      },
      "outputs": [],
      "source": [
        "x_train_LDA, x_test_LDA, y_train_LDA, y_test_LDA = train_test_split(X_selected, Y, test_size = 0.35, random_state = 20)"
      ]
    },
    {
      "cell_type": "code",
      "execution_count": 65,
      "metadata": {
        "colab": {
          "base_uri": "https://localhost:8080/"
        },
        "id": "RB_M1T8rKtEo",
        "outputId": "b57ccf20-63c0-4407-f40f-3f5729cf9958"
      },
      "outputs": [
        {
          "name": "stdout",
          "output_type": "stream",
          "text": [
            "0.7291215608047291\n"
          ]
        }
      ],
      "source": [
        "model = LogisticRegression()\n",
        "\n",
        "model.fit(x_train_LDA, y_train_LDA)\n",
        "\n",
        "pred = model.predict(x_test_LDA)\n",
        "\n",
        "print(accuracy_score(y_test_LDA, pred))"
      ]
    },
    {
      "cell_type": "code",
      "execution_count": 66,
      "metadata": {
        "colab": {
          "base_uri": "https://localhost:8080/"
        },
        "id": "261TMzcQNCYU",
        "outputId": "29bf22fe-f029-4f37-ba95-5165b2916709"
      },
      "outputs": [
        {
          "name": "stdout",
          "output_type": "stream",
          "text": [
            "              precision    recall  f1-score   support\n",
            "\n",
            "           0       0.74      0.69      0.71     20107\n",
            "           1       0.72      0.76      0.74     21000\n",
            "\n",
            "    accuracy                           0.73     41107\n",
            "   macro avg       0.73      0.73      0.73     41107\n",
            "weighted avg       0.73      0.73      0.73     41107\n",
            "\n"
          ]
        }
      ],
      "source": [
        "print(classification_report(y_test_LDA, pred))"
      ]
    },
    {
      "cell_type": "code",
      "execution_count": 66,
      "metadata": {
        "id": "c8LH3ELmNd4N"
      },
      "outputs": [],
      "source": []
    }
  ],
  "metadata": {
    "colab": {
      "provenance": []
    },
    "kernelspec": {
      "display_name": "Python 3",
      "name": "python3"
    },
    "language_info": {
      "name": "python"
    }
  },
  "nbformat": 4,
  "nbformat_minor": 0
}
